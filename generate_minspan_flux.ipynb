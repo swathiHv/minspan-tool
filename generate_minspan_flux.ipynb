{
 "metadata": {
  "name": ""
 },
 "nbformat": 3,
 "nbformat_minor": 0,
 "worksheets": [
  {
   "cells": [
    {
     "cell_type": "markdown",
     "metadata": {},
     "source": [
      "# How do Minspan FPKM averages shift under different conditions?\n",
      "\n",
      "If minspans describe sets of coordinated reactions, do these reactions have coregulation which can be captured in the average transcript levels for a minspan?\n",
      "\n",
      "This script compares average minspan FPKM values between two different transcript readings. It compares which minspans rank higher under different conditions, and sees if the shift is consistent between two data sets of bop27 under aerobic conditions and two datasets under anaerobic conditions. \n",
      "\n",
      "The model used here iJO1366.\n",
      "\n",
      "The MinSpans used can either be the set calculated for iJO1366, or the Minspans calculated for the core mobel. "
     ]
    },
    {
     "cell_type": "code",
     "collapsed": false,
     "input": [
      "import numpy as np\n",
      "from scipy import stats\n",
      "import matplotlib.pyplot as plt\n",
      "from pickle import load\n",
      "from IPython.display import HTML\n",
      "import pandas as pd\n",
      "import json\n",
      "import visbio\n",
      "\n",
      "# Have to direct to folder to find module\n",
      "%cd /Users/zaking/sharedrepos/transAnalysis/\n",
      "import transAnalysis as ta\n",
      "\n",
      "filenameroot = \\\n",
      "    '/Users/zaking/sharedrepos/transAnalysis/data/'\n",
      "\n",
      "# This makes it so changed modules are reloaded before lines run.     \n",
      "%load_ext autoreload\n",
      "%autoreload 2"
     ],
     "language": "python",
     "metadata": {},
     "outputs": [],
     "prompt_number": 5
    },
    {
     "cell_type": "code",
     "collapsed": false,
     "input": [
      "# Get model and minspans\n",
      "model_filename = filenameroot + 'iJO1366.pickle'\n",
      "f = open(model_filename, \"rb\")\n",
      "model = load(f)\n",
      "f.close()\n",
      "\n",
      "#minspan_filename = filenameroot + 'MinSpanPathways.xlsx'\n",
      "#minspan_list = ta.make_minspan_list(minspan_filename)\n",
      "minspan_filename = filenameroot + 'minspan_EcoliCore.xlsx'\n",
      "minspan_list = ta.make_minspan_list(minspan_filename,\n",
      "                                    '2013-11-18_adjust')"
     ],
     "language": "python",
     "metadata": {},
     "outputs": [],
     "prompt_number": 6
    },
    {
     "cell_type": "code",
     "collapsed": false,
     "input": [
      "# Quality control, which reactions from minspan can't be found in model\n",
      "reaction_not_found = []\n",
      "for minspan in minspan_list:\n",
      "    for reaction in minspan:\n",
      "        try:\n",
      "            model.reactions.get_by_id(reaction)\n",
      "        except:\n",
      "            if reaction not in reaction_not_found:\n",
      "                reaction_not_found.append(reaction)\n",
      "            else:\n",
      "                pass\n",
      "            \n",
      "# Should report none\n",
      "print reaction_not_found"
     ],
     "language": "python",
     "metadata": {},
     "outputs": [],
     "prompt_number": 7
    },
    {
     "cell_type": "code",
     "collapsed": false,
     "input": [
      "# Dict 1, minspan id as key, list of reactons as values\n",
      "minspan_k_dict = ta.make_minspan_k_dict(minspan_list)\n",
      "\n",
      "# Dict 2, reaction name as k, with minspans involved as values.\n",
      "reaction_k_dict, rxn_no_minspan = ta.make_reaction_k_dict(model, minspan_k_dict, report_wo=True)"
     ],
     "language": "python",
     "metadata": {},
     "outputs": [],
     "prompt_number": 8
    },
    {
     "cell_type": "code",
     "collapsed": false,
     "input": [
      "# Because we are using iJO as a model, and core for the minspans, this should be a lot\n",
      "print(len(rxn_no_minspan))"
     ],
     "language": "python",
     "metadata": {},
     "outputs": [],
     "prompt_number": 9
    },
    {
     "cell_type": "markdown",
     "metadata": {},
     "source": [
      "## Comparisons of FPKM minspans averages\n",
      "\n",
      "1. bop27_1 vs bop27_2\n",
      "2. anaerob_1 vs anaerob_2\n",
      "3. bop27_1 vs anaerob_1\n",
      "4. bop27_1 vs anaerob_2\n",
      "5. bop27_2 vs anaerob_1\n",
      "6. bop27_2 vs anaerob_2"
     ]
    },
    {
     "cell_type": "code",
     "collapsed": false,
     "input": [
      "# Comparing bop1 vs bop2\n",
      "fpkm_filename1 = filenameroot + 'bop27_1_isoforms.fpkm_tracking'\n",
      "fpkm_filename2 = filenameroot + 'bop27_2_isoforms.fpkm_tracking'\n",
      "\n",
      "ta.fpkm_comparison(fpkm_filename1, fpkm_filename2, \n",
      "                   minspan_list, model, 0)"
     ],
     "language": "python",
     "metadata": {},
     "outputs": [],
     "prompt_number": 10
    },
    {
     "cell_type": "code",
     "collapsed": false,
     "input": [
      "# Comparing bop1 vs an\n",
      "fpkm_filename1 = filenameroot + 'bop27_1_isoforms.fpkm_tracking'\n",
      "fpkm_filename2 = filenameroot + 'ar_isoforms.fpkm_tracking'\n",
      "\n",
      "ta.fpkm_comparison(fpkm_filename1, fpkm_filename2, \n",
      "                   minspan_list, model, 0)"
     ],
     "language": "python",
     "metadata": {},
     "outputs": [],
     "prompt_number": 11
    },
    {
     "cell_type": "code",
     "collapsed": false,
     "input": [
      "# Comparing bop1 vs bop384\n",
      "fpkm_filename1 = filenameroot + 'bop27_1_isoforms.fpkm_tracking'\n",
      "fpkm_filename2 = filenameroot + 'bop384_isoforms.fpkm_tracking'\n",
      "\n",
      "ta.fpkm_comparison(fpkm_filename1, fpkm_filename2, \n",
      "                   minspan_list, model, 0)"
     ],
     "language": "python",
     "metadata": {},
     "outputs": [],
     "prompt_number": 12
    },
    {
     "cell_type": "code",
     "collapsed": false,
     "input": [
      "# Comparing anaerobe1 and bop384\n",
      "fpkm_filename1 = filenameroot + 'anaerobe1_isoforms.fpkm_tracking'\n",
      "fpkm_filename2 = filenameroot + 'bop384_isoforms.fpkm_tracking'\n",
      "\n",
      "ta.fpkm_comparison(fpkm_filename1, fpkm_filename2, \n",
      "                   minspan_list, model, 0)"
     ],
     "language": "python",
     "metadata": {},
     "outputs": [],
     "prompt_number": 13
    },
    {
     "cell_type": "code",
     "collapsed": false,
     "input": [
      "# Comparing anaerob1 vs anaerob2\n",
      "fpkm_filename1 = filenameroot + 'anaerobe1_isoforms.fpkm_tracking'\n",
      "fpkm_filename2 = filenameroot + 'anaerobe2_isoforms.fpkm_tracking'\n",
      "\n",
      "ta.fpkm_comparison(fpkm_filename1, fpkm_filename2, \n",
      "                              minspan_list, model)"
     ],
     "language": "python",
     "metadata": {},
     "outputs": [],
     "prompt_number": 14
    },
    {
     "cell_type": "code",
     "collapsed": false,
     "input": [
      "# Comparing anaerob1 vs anaerob2\n",
      "fpkm_filename1 = filenameroot + 'anaerobe1_isoforms.fpkm_tracking'\n",
      "fpkm_filename2 = filenameroot + 'an_isoforms.fpkm_tracking'\n",
      "\n",
      "ta.fpkm_comparison(fpkm_filename1, fpkm_filename2, \n",
      "                              minspan_list, model)"
     ],
     "language": "python",
     "metadata": {},
     "outputs": [],
     "prompt_number": 15
    },
    {
     "cell_type": "code",
     "collapsed": false,
     "input": [
      "# Comparing bop1 vs anaerob1\n",
      "fpkm_filename1 = filenameroot + 'bop27_1_isoforms.fpkm_tracking'\n",
      "fpkm_filename2 = filenameroot + 'anaerobe1_isoforms.fpkm_tracking'\n",
      "\n",
      "ta.fpkm_comparison(fpkm_filename1, fpkm_filename2, \n",
      "                              minspan_list, model)"
     ],
     "language": "python",
     "metadata": {},
     "outputs": [],
     "prompt_number": 16
    },
    {
     "cell_type": "code",
     "collapsed": false,
     "input": [
      "#Comparing bop1 vs anaerob2\n",
      "fpkm_filename1 = filenameroot + 'bop27_1_isoforms.fpkm_tracking'\n",
      "fpkm_filename2 = filenameroot + 'anaerobe2_isoforms.fpkm_tracking'\n",
      "\n",
      "ta.fpkm_comparison(fpkm_filename1, fpkm_filename2, \n",
      "                              minspan_list, model)"
     ],
     "language": "python",
     "metadata": {},
     "outputs": [],
     "prompt_number": 17
    },
    {
     "cell_type": "code",
     "collapsed": false,
     "input": [
      "#Comparing bop2 vs anaerob1\n",
      "fpkm_filename2 = filenameroot + 'bop27_2_isoforms.fpkm_tracking'\n",
      "fpkm_filename2 = filenameroot + 'anaerobe1_isoforms.fpkm_tracking'\n",
      "\n",
      "ta.fpkm_comparison(fpkm_filename1, fpkm_filename2, \n",
      "                              minspan_list, model)"
     ],
     "language": "python",
     "metadata": {},
     "outputs": [],
     "prompt_number": 18
    },
    {
     "cell_type": "code",
     "collapsed": false,
     "input": [
      "#Comparing bop2 vs anaerob2\n",
      "fpkm_filename2 = filenameroot + 'bop27_2_isoforms.fpkm_tracking'\n",
      "fpkm_filename2 = filenameroot + 'anaerobe2_isoforms.fpkm_tracking'\n",
      "\n",
      "ta.fpkm_comparison(fpkm_filename1, fpkm_filename2, \n",
      "                              minspan_list, model)"
     ],
     "language": "python",
     "metadata": {},
     "outputs": [],
     "prompt_number": 19
    },
    {
     "cell_type": "code",
     "collapsed": false,
     "input": [
      "#Comparing ar vs anaerob1\n",
      "fpkm_filename2 = filenameroot + 'ar_isoforms.fpkm_tracking'\n",
      "fpkm_filename2 = filenameroot + 'anaerobe1_isoforms.fpkm_tracking'\n",
      "\n",
      "ta.fpkm_comparison(fpkm_filename1, fpkm_filename2, \n",
      "                   minspan_list, model)\n"
     ],
     "language": "python",
     "metadata": {},
     "outputs": [],
     "prompt_number": 20
    },
    {
     "cell_type": "code",
     "collapsed": false,
     "input": [
      "# Comparing bop1 vs rboB\n",
      "fpkm_filename1 = filenameroot + 'bop27_1_isoforms.fpkm_tracking'\n",
      "fpkm_filename2 = filenameroot + 'rpoBisoforms.fpkm_tracking'\n",
      "\n",
      "ta.fpkm_comparison(fpkm_filename1, fpkm_filename2, \n",
      "                   minspan_list, model, 0)"
     ],
     "language": "python",
     "metadata": {},
     "outputs": [],
     "prompt_number": 21
    },
    {
     "cell_type": "code",
     "collapsed": false,
     "input": [
      "# Comparing anaerob1 vs rpob\n",
      "fpkm_filename1 = filenameroot + 'anaerobe1_isoforms.fpkm_tracking'\n",
      "fpkm_filename2 = filenameroot + 'rpoBisoforms.fpkm_tracking'\n",
      "\n",
      "ta.fpkm_comparison(fpkm_filename1, fpkm_filename2, \n",
      "                              minspan_list, model)"
     ],
     "language": "python",
     "metadata": {},
     "outputs": [],
     "prompt_number": 22
    },
    {
     "cell_type": "markdown",
     "metadata": {},
     "source": [
      "Above, the biological duplicates are very similar, and the comparisons between the conditions produce a scatter that are not aligned and the resulting shifts are reproduced between all combinations. \n",
      "\n",
      "## What are the up shifted and downshifted minspans and do they have biological significance?\n",
      "\n",
      "Starting with WT and anaerobic fpkm data, find the minspans that have the biggest differential expression data."
     ]
    },
    {
     "cell_type": "code",
     "collapsed": false,
     "input": [
      "# Use bop1 and anerob1 as comparison set\n",
      "fpkm_filename1 = filenameroot + 'bop27_1_isoforms.fpkm_tracking'\n",
      "fpkm_filename2 = filenameroot + 'anaerobe1_isoforms.fpkm_tracking'\n",
      "\n",
      "bop_gene_fpkm_dict = ta.make_gene_fpkm_dict(fpkm_filename1)\n",
      "bop_reaction_fpkm_dict = ta.make_reaction_fpkm_dict(model,\n",
      "                                            bop_gene_fpkm_dict)\n",
      "bop_minspan_rank = ta.make_minspan_fpkm_list(minspan_list,\n",
      "                                             bop_reaction_fpkm_dict)\n",
      "\n",
      "ana_gene_fpkm_dict = ta.make_gene_fpkm_dict(fpkm_filename2)\n",
      "ana_reaction_fpkm_dict = ta.make_reaction_fpkm_dict(model,\n",
      "                                            ana_gene_fpkm_dict)\n",
      "ana_minspan_rank = ta.make_minspan_fpkm_list(minspan_list,\n",
      "                                             ana_reaction_fpkm_dict)"
     ],
     "language": "python",
     "metadata": {},
     "outputs": [],
     "prompt_number": 23
    },
    {
     "cell_type": "code",
     "collapsed": false,
     "input": [
      "minspan_ids = range(1, len(minspan_list) + 1)\n",
      "\n",
      "# bop df\n",
      "avgs = np.array(zip(*bop_minspan_rank)[0])\n",
      "bop_minspan_avgs = pd.Series(avgs, index=minspan_ids)\n",
      "bop_minspan_reactions = pd.Series(zip(*bop_minspan_rank)[1],\n",
      "                                  index=minspan_ids)\n",
      "bop_minspan_norm = pd.Series(avgs / max(avgs), index=minspan_ids)\n",
      "avg_lognorm = np.log2(1 + ((avgs - min(avgs)) / (max(avgs) - min(avgs))))\n",
      "bop_minspan_lognorm = pd.Series(avg_lognorm, index=minspan_ids)\n",
      "bop_df = {'Reactions' : bop_minspan_reactions,\n",
      "          'FPKM avg' : bop_minspan_avgs,\n",
      "          'FPKM norm' : bop_minspan_norm,\n",
      "          'FPKM lognorm' : bop_minspan_lognorm}\n",
      "columns = ['Reactions', 'FPKM avg', 'FPKM norm', 'FPKM lognorm']\n",
      "bop_df = pd.DataFrame(bop_df, columns=columns, index=minspan_ids)\n",
      "\n",
      "# anaerobic df\n",
      "avgs = np.array(zip(*ana_minspan_rank)[0])\n",
      "ana_minspan_avgs = pd.Series(avgs, index=minspan_ids)\n",
      "ana_minspan_reactions = pd.Series(zip(*ana_minspan_rank)[1],\n",
      "                                  index=minspan_ids)\n",
      "ana_minspan_norm = pd.Series(avgs / max(avgs), index=minspan_ids)\n",
      "avg_lognorm = np.log2(1 + ((avgs - min(avgs)) / (max(avgs) - min(avgs))))\n",
      "ana_minspan_lognorm = pd.Series(avg_lognorm, index=minspan_ids)\n",
      "ana_df = {'Reactions' : ana_minspan_reactions,\n",
      "          'FPKM avg' : ana_minspan_avgs,\n",
      "          'FPKM norm' : ana_minspan_norm,\n",
      "          'FPKM lognorm' : ana_minspan_lognorm}\n",
      "columns = ['Reactions', 'FPKM avg', 'FPKM norm', 'FPKM lognorm']\n",
      "ana_df = pd.DataFrame(ana_df, columns=columns, index=minspan_ids)"
     ],
     "language": "python",
     "metadata": {},
     "outputs": [],
     "prompt_number": 24
    },
    {
     "cell_type": "code",
     "collapsed": false,
     "input": [
      "#bop_df['bop Rank'] = range(1, len(minspan_list)+1)"
     ],
     "language": "python",
     "metadata": {},
     "outputs": [],
     "prompt_number": 25
    },
    {
     "cell_type": "markdown",
     "metadata": {},
     "source": [
      "### WT minspan breakdown"
     ]
    },
    {
     "cell_type": "code",
     "collapsed": false,
     "input": [
      "bop_df.sort(columns='FPKM avg', ascending=False, inplace=True)\n",
      "HTML(bop_df.to_html())"
     ],
     "language": "python",
     "metadata": {},
     "outputs": [],
     "prompt_number": 26
    },
    {
     "cell_type": "markdown",
     "metadata": {},
     "source": [
      "### Anaerobic minspan breakdown"
     ]
    },
    {
     "cell_type": "code",
     "collapsed": false,
     "input": [
      "ana_df.sort(columns='FPKM avg', ascending=False, inplace=True)\n",
      "#ana_df.sort_index(inplace=True)\n",
      "HTML(ana_df.to_html())"
     ],
     "language": "python",
     "metadata": {},
     "outputs": [],
     "prompt_number": 27
    },
    {
     "cell_type": "markdown",
     "metadata": {},
     "source": [
      "### Minspan difference breakdown"
     ]
    },
    {
     "cell_type": "code",
     "collapsed": false,
     "input": [
      "lognorm_diff_series = bop_minspan_lognorm - ana_minspan_lognorm\n",
      "\n",
      "diff_df = {'Reactions' : bop_minspan_reactions,\n",
      "           'bop FPKM' : bop_minspan_avgs,\n",
      "           'ana FPKM' : ana_minspan_avgs,\n",
      "           'Lognorm diff' : lognorm_diff_series}\n",
      "\n",
      "columns = ['Reactions', 'bop FPKM', 'ana FPKM', 'Lognorm diff']\n",
      "\n",
      "diff_df = pd.DataFrame(diff_df, columns=columns, index = minspan_ids)\n",
      "\n",
      "diff_df.sort('Lognorm diff', ascending=False, inplace=True)\n",
      "HTML(diff_df.to_html(float_format=lambda x: '%10.3f' % x))"
     ],
     "language": "python",
     "metadata": {},
     "outputs": [],
     "prompt_number": 28
    },
    {
     "cell_type": "markdown",
     "metadata": {},
     "source": [
      "## Map differentially expressed minspans.\n",
      "\n",
      "Call minspans from their ID (the index in the table)."
     ]
    },
    {
     "cell_type": "code",
     "collapsed": false,
     "input": [
      "with open(\"/Users/zaking/www/minspan-tool/minspan_data.json\", 'w') as f:\n",
      "    json.dump(minspan_k_dict, f, ensure_ascii=True)"
     ],
     "language": "python",
     "metadata": {},
     "outputs": [],
     "prompt_number": 42
    },
    {
     "cell_type": "code",
     "collapsed": false,
     "input": [
      "upminspan = minspan_k_dict['14']\n",
      "downminspan = minspan_k_dict['5']\n",
      "minspan_for_map = dict()\n",
      "for rxn1, rxn2 in zip(upminspan, downminspan):\n",
      "    # Use this just to see the whole minspan\n",
      "    minspan_for_map[rxn1] = 1\n",
      "    if rxn2 in upminspan:\n",
      "        minspan_for_map[rxn2] = 30\n",
      "    else:\n",
      "        minspan_for_map[rxn2] = 60\n",
      "    \n",
      "    # OR, an use the fpkm values for the 'flux' ammount, but make sure you have the right dict.\n",
      "    # Note that there are Nans, in there, so you wont see the whole minspan.\n",
      "    #minspan_for_map[rxn] = ana_reaction_fpkm_dict[rxn]\n",
      "    #minspan_for_map[rxn] = bop_reaction_fpkm_dict[rxn]\n",
      "    \n",
      "\n",
      "visbio.Map(flux=minspan_for_map)"
     ],
     "language": "python",
     "metadata": {},
     "outputs": [],
     "prompt_number": 30
    },
    {
     "cell_type": "code",
     "collapsed": false,
     "input": [
      "minspan_k_dict\n",
      "minspan_dict_dict = dict([(k, dict([(x, 0) for x in v])) for k, v in minspan_k_dict.iteritems()])"
     ],
     "language": "python",
     "metadata": {},
     "outputs": [],
     "prompt_number": 32
    },
    {
     "cell_type": "code",
     "collapsed": false,
     "input": [
      "minspan_dict_dict"
     ],
     "language": "python",
     "metadata": {},
     "outputs": [],
     "prompt_number": 33
    },
    {
     "cell_type": "code",
     "collapsed": false,
     "input": [
      "with open(\"/Users/zaking/www/minspan-tool/minspan_data_dict.json\", 'w') as f:\n",
      "    json.dump(minspan_dict_dict, f)"
     ],
     "language": "python",
     "metadata": {},
     "outputs": [],
     "prompt_number": 34
    },
    {
     "cell_type": "code",
     "collapsed": false,
     "input": [
      "reactions = sum([[x for x in v] for k, v in minspan_k_dict.iteritems()])\n",
      "reactions"
     ],
     "language": "python",
     "metadata": {},
     "outputs": [],
     "prompt_number": 37
    },
    {
     "cell_type": "code",
     "collapsed": false,
     "input": [],
     "language": "python",
     "metadata": {},
     "outputs": []
    },
    {
     "cell_type": "code",
     "collapsed": false,
     "input": [],
     "language": "python",
     "metadata": {},
     "outputs": []
    },
    {
     "cell_type": "code",
     "collapsed": false,
     "input": [],
     "language": "python",
     "metadata": {},
     "outputs": []
    },
    {
     "cell_type": "code",
     "collapsed": false,
     "input": [],
     "language": "python",
     "metadata": {},
     "outputs": []
    },
    {
     "cell_type": "code",
     "collapsed": false,
     "input": [],
     "language": "python",
     "metadata": {},
     "outputs": []
    },
    {
     "cell_type": "code",
     "collapsed": false,
     "input": [],
     "language": "python",
     "metadata": {},
     "outputs": []
    },
    {
     "cell_type": "code",
     "collapsed": false,
     "input": [],
     "language": "python",
     "metadata": {},
     "outputs": []
    },
    {
     "cell_type": "code",
     "collapsed": false,
     "input": [],
     "language": "python",
     "metadata": {},
     "outputs": []
    },
    {
     "cell_type": "code",
     "collapsed": false,
     "input": [],
     "language": "python",
     "metadata": {},
     "outputs": []
    },
    {
     "cell_type": "code",
     "collapsed": false,
     "input": [],
     "language": "python",
     "metadata": {},
     "outputs": []
    }
   ],
   "metadata": {}
  }
 ]
}