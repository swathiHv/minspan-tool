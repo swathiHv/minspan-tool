{
 "metadata": {
  "name": ""
 },
 "nbformat": 3,
 "nbformat_minor": 0,
 "worksheets": [
  {
   "cells": [
    {
     "cell_type": "code",
     "collapsed": false,
     "input": [
      "import json\n",
      "import pandas\n",
      "from numpy import nan\n",
      "import re"
     ],
     "language": "python",
     "metadata": {},
     "outputs": [],
     "prompt_number": 372
    },
    {
     "cell_type": "code",
     "collapsed": false,
     "input": [
      "with open('/Users/zaking/sharedrepos/visbio-maps/simpheny-svg/core-e-coli-v3-reaction-names.csv', 'r') as f:\n",
      "    df = pandas.read_csv(f, header=0)\n",
      "def flux_fix(flux):\n",
      "    new = {}\n",
      "    for row in df.itertuples(index=False):\n",
      "        if row[0].strip() in flux and row[1] is not nan:\n",
      "            if row[1].strip()=='phosphate reversible transport via symport':\n",
      "                print row\n",
      "            flux[unicode(row[1].strip())] = flux[row[0].strip()]\n",
      "        elif row[2] is not nan and row[2].strip() in flux:\n",
      "            flux[unicode(row[0].strip())] = flux[row[2].strip()]\n",
      "            if row[1] is not nan:\n",
      "                flux[unicode(row[1].strip())] = flux[row[2].strip()]\n",
      "    return flux"
     ],
     "language": "python",
     "metadata": {},
     "outputs": [],
     "prompt_number": 506
    },
    {
     "cell_type": "code",
     "collapsed": false,
     "input": [
      "with open(\"/Users/zaking/www/minspan-tool/minspan_data.json\", 'r') as f:\n",
      "    minspan_k_dict = json.load(f)\n",
      "def fix_names(s):\n",
      "    repla\n",
      "for k, v in minspan_k_dict.iteritems():\n",
      "    minspan_k_dict[k] = [re.sub(r'_e$', r'(e)', x).replace('__', '-') for x in v]"
     ],
     "language": "python",
     "metadata": {},
     "outputs": [],
     "prompt_number": 507
    },
    {
     "cell_type": "code",
     "collapsed": false,
     "input": [
      "reactions = list(set(sum([[x for x in v] for k, v in minspan_k_dict.iteritems()])))\n",
      "labels = [int(x) for x in minspan_k_dict.keys()]"
     ],
     "language": "python",
     "metadata": {},
     "outputs": [],
     "prompt_number": 508
    },
    {
     "cell_type": "code",
     "collapsed": false,
     "input": [
      "def minspan_for_reaction(r, minspan_dict):\n",
      "    spans = [num for num, span in minspan_dict.iteritems() if r in span]\n",
      "    return spans"
     ],
     "language": "python",
     "metadata": {},
     "outputs": [],
     "prompt_number": 529
    },
    {
     "cell_type": "code",
     "collapsed": false,
     "input": [
      "def minspan_flux_for_reaction(reaction, minspans_per_reaction, maxed_flux, no_flux):\n",
      "    flux = {}\n",
      "    for r in reactions:\n",
      "        spans = list(set(minspans_per_reaction[r]) & set(minspans_per_reaction[reaction]))\n",
      "        if len(spans) == 1:\n",
      "            flux[r] = int(spans[0])\n",
      "        elif len(spans) > 1:\n",
      "            flux[r] = maxed_flux\n",
      "        else:\n",
      "            flux[r] = no_flux\n",
      "    return flux_fix(flux)"
     ],
     "language": "python",
     "metadata": {},
     "outputs": [],
     "prompt_number": 530
    },
    {
     "cell_type": "code",
     "collapsed": false,
     "input": [
      "# find individual fluxes for each reaction and each of its minspans\n",
      "def flux_by_minspan_for_reaction(reaction, minspans_per_reaction, no_flux):\n",
      "    out = {}\n",
      "    for num in minspans_per_reaction[reaction]:\n",
      "        flux = {}\n",
      "        for r in reactions:\n",
      "            if num in minspans_per_reaction[r]:\n",
      "                flux[r] = int(num)\n",
      "            else:\n",
      "                flux[r] = no_flux\n",
      "        out[int(num)] = flux_fix(flux)\n",
      "    return out"
     ],
     "language": "python",
     "metadata": {},
     "outputs": [],
     "prompt_number": 531
    },
    {
     "cell_type": "code",
     "collapsed": false,
     "input": [
      "def fluxes_for_minspan_tool(minspan_dict, knockouts=[]):\n",
      "    # remove knockouts\n",
      "    print len(minspan_dict)\n",
      "    minspan_dict = dict([(k, v) for k, v in minspan_dict.iteritems() if not any([r in v for r in knockouts])])\n",
      "    print len(minspan_dict)\n",
      "    \n",
      "    minspans_per_reaction = dict([(reaction, minspan_for_reaction(reaction, minspan_dict)) \n",
      "                                  for reaction in reactions])\n",
      "    # find grouped fluxes for each reaction\n",
      "    maxed_flux = 1000; no_flux = 999; no_minspan = 0\n",
      "    new_labels = [no_flux, maxed_flux, no_minspan]\n",
      "    new_labels.extend(labels)\n",
      "    flux_per_reaction = dict([(reaction, minspan_flux_for_reaction(reaction, minspans_per_reaction, maxed_flux, no_flux)) \n",
      "                              for reaction in reactions])\n",
      "    flux_per_reaction = flux_fix(flux_per_reaction)\n",
      "\n",
      "    flux_per_reaction_per_minspan = dict([(reaction, flux_by_minspan_for_reaction(reaction, minspans_per_reaction, no_flux)) \n",
      "                                          for reaction in reactions])\n",
      "    flux_per_reaction_per_minspan = flux_fix(flux_per_reaction_per_minspan)\n",
      "    return {'combined': flux_per_reaction, \n",
      "            'individual': flux_per_reaction_per_minspan,\n",
      "            'labels': new_labels}"
     ],
     "language": "python",
     "metadata": {},
     "outputs": [],
     "prompt_number": 532
    },
    {
     "cell_type": "code",
     "collapsed": false,
     "input": [
      "with open(\"/Users/zaking/www/minspan-tool/minspan_data_dict.json\", 'w') as f:\n",
      "    json.dump(fluxes_for_minspan_tool(minspan_k_dict.copy()),\n",
      "                f, ensure_ascii=True)"
     ],
     "language": "python",
     "metadata": {},
     "outputs": [],
     "prompt_number": 533
    },
    {
     "cell_type": "code",
     "collapsed": false,
     "input": [
      "with open(\"/Users/zaking/www/minspan-tool/minspan_data_dict_GLUDy.json\", 'w') as f:\n",
      "    json.dump(fluxes_for_minspan_tool(minspan_k_dict.copy(), knockouts=['GLUDy']),\n",
      "                f, ensure_ascii=True)"
     ],
     "language": "python",
     "metadata": {},
     "outputs": [],
     "prompt_number": 534
    },
    {
     "cell_type": "code",
     "collapsed": false,
     "input": [
      "with open(\"/Users/zaking/www/minspan-tool/minspan_data_dict_GLUDy_ALCD2x.json\", 'w') as f:\n",
      "    json.dump(fluxes_for_minspan_tool(minspan_k_dict.copy(), knockouts=['GLUDy', 'ALCD2x']),\n",
      "                f, ensure_ascii=True)"
     ],
     "language": "python",
     "metadata": {},
     "outputs": [],
     "prompt_number": 535
    },
    {
     "cell_type": "code",
     "collapsed": false,
     "input": [
      "with open(\"/Users/zaking/www/minspan-tool/minspan_data_dict_ECOM.json\", 'w') as f:\n",
      "    json.dump(fluxes_for_minspan_tool(minspan_k_dict.copy(), knockouts=['CYTBDpp']),\n",
      "                f, ensure_ascii=True)"
     ],
     "language": "python",
     "metadata": {},
     "outputs": [],
     "prompt_number": 543
    },
    {
     "cell_type": "code",
     "collapsed": false,
     "input": [
      "with open(\"/Users/zaking/www/minspan-tool/minspan_data_dict_ECOM_ALCD2x.json\", 'w') as f:\n",
      "    json.dump(fluxes_for_minspan_tool(minspan_k_dict.copy(), knockouts=['CYTBDpp', 'ALCD2x']),\n",
      "                f, ensure_ascii=True)"
     ],
     "language": "python",
     "metadata": {},
     "outputs": [],
     "prompt_number": 546
    },
    {
     "cell_type": "code",
     "collapsed": false,
     "input": [
      "with open(\"/Users/zaking/www/minspan-tool/minspan_data_dict_ECOM_GLUDy.json\", 'w') as f:\n",
      "    json.dump(fluxes_for_minspan_tool(minspan_k_dict.copy(), knockouts=['CYTBDpp', 'GLUDy']),\n",
      "                f, ensure_ascii=True)"
     ],
     "language": "python",
     "metadata": {},
     "outputs": [],
     "prompt_number": 544
    },
    {
     "cell_type": "code",
     "collapsed": false,
     "input": [
      "with open(\"/Users/zaking/www/minspan-tool/minspan_data_dict_ECOM_GLUDy_ALCD2x.json\", 'w') as f:\n",
      "    json.dump(fluxes_for_minspan_tool(minspan_k_dict.copy(), knockouts=['CYTBDpp', 'GLUDy', 'ALCD2x']),\n",
      "                f, ensure_ascii=True)"
     ],
     "language": "python",
     "metadata": {},
     "outputs": [],
     "prompt_number": 545
    },
    {
     "cell_type": "code",
     "collapsed": false,
     "input": [
      "rxns = ['ALCD2x', 'GLUDy', 'LDH_D', 'PFL', 'THD2pp']\n",
      "for r in rxns:\n",
      "    print r, len(minspans_per_reaction[r])"
     ],
     "language": "python",
     "metadata": {},
     "outputs": [],
     "prompt_number": 495
    },
    {
     "cell_type": "code",
     "collapsed": false,
     "input": [
      "for k, v in minspan_k_dict.iteritems():\n",
      "    print not any([r in v for r in ['GLUDy']])"
     ],
     "language": "python",
     "metadata": {},
     "outputs": [],
     "prompt_number": 525
    },
    {
     "cell_type": "code",
     "collapsed": false,
     "input": [
      "sorted(reactions)"
     ],
     "language": "python",
     "metadata": {},
     "outputs": [],
     "prompt_number": 538
    },
    {
     "cell_type": "code",
     "collapsed": false,
     "input": [],
     "language": "python",
     "metadata": {},
     "outputs": []
    }
   ],
   "metadata": {}
  }
 ]
}