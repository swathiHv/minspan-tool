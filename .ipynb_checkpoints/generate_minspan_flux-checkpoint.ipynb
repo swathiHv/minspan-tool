{
 "metadata": {
  "name": ""
 },
 "nbformat": 3,
 "nbformat_minor": 0,
 "worksheets": [
  {
   "cells": [
    {
     "cell_type": "code",
     "collapsed": false,
     "input": [
      "cd /Users/zaking/sharedrepos/minspan"
     ],
     "language": "python",
     "metadata": {},
     "outputs": [
      {
       "output_type": "stream",
       "stream": "stdout",
       "text": [
        "/Users/zaking/sharedrepos/minspan\n"
       ]
      }
     ],
     "prompt_number": 652
    },
    {
     "cell_type": "code",
     "collapsed": false,
     "input": [
      "from minspan import minspan, nnz"
     ],
     "language": "python",
     "metadata": {},
     "outputs": [],
     "prompt_number": 653
    },
    {
     "cell_type": "code",
     "collapsed": false,
     "input": [
      "import json\n",
      "import pandas as pd\n",
      "from pandas import DataFrame\n",
      "from numpy import nan\n",
      "import re\n",
      "from os.path import join\n",
      "import cobra\n",
      "import cobra.io\n",
      "from collections import defaultdict\n",
      "from operator import add"
     ],
     "language": "python",
     "metadata": {},
     "outputs": [],
     "prompt_number": 758
    },
    {
     "cell_type": "code",
     "collapsed": false,
     "input": [
      "def knockout_reactions(model, reactions):\n",
      "    for reaction in reactions:\n",
      "        r = model.reactions.get_by_id(reaction)\n",
      "        r.lower_bound = 0\n",
      "        r.upper_bound = 0\n",
      "    return model"
     ],
     "language": "python",
     "metadata": {},
     "outputs": [],
     "prompt_number": 1012
    },
    {
     "cell_type": "code",
     "collapsed": false,
     "input": [
      "model = cobra.io.load_matlab_model('/Users/zaking/models/ecoli_core_model_cobrapy.mat')"
     ],
     "language": "python",
     "metadata": {},
     "outputs": [],
     "prompt_number": 1100
    },
    {
     "cell_type": "code",
     "collapsed": false,
     "input": [
      "model_minspan = cobra.io.load_matlab_model('/Users/zaking/sharedrepos/minspan/testing_models.mat')"
     ],
     "language": "python",
     "metadata": {},
     "outputs": [],
     "prompt_number": 1101
    },
    {
     "cell_type": "code",
     "collapsed": false,
     "input": [
      "def remove_reactions(model, reactions):\n",
      "    for reaction in reactions:\n",
      "        r = model.reactions.get_by_id(reaction)\n",
      "        r.remove_from_model(model)\n",
      "    return model"
     ],
     "language": "python",
     "metadata": {},
     "outputs": [],
     "prompt_number": 1117
    },
    {
     "cell_type": "code",
     "collapsed": false,
     "input": [
      "#test\n",
      "mtest = remove_reactions(model.copy(), ['GAPD'])\n",
      "assert 'GAPD' in [x.id for x in model.reactions]\n",
      "assert 'GAPD' not in [x.id for x in mtest.reactions]"
     ],
     "language": "python",
     "metadata": {},
     "outputs": [],
     "prompt_number": 1123
    },
    {
     "cell_type": "markdown",
     "metadata": {},
     "source": [
      "## Generate minspans"
     ]
    },
    {
     "cell_type": "code",
     "collapsed": false,
     "input": [
      "def generate_minspans_for_knockouts(model, knockouts=[], normalize_by='EX_glc(e)', verbose=True, fix_name=None):\n",
      "    model = remove_reactions(model, knockouts)\n",
      "    minspan_fluxes = minspan(model, cores=20, verbose=verbose)\n",
      "    minspan_dict = defaultdict(dict)\n",
      "    for spans, reaction in zip(minspan_fluxes, model.reactions):\n",
      "        for i, span_coeff in enumerate(spans):\n",
      "            minspan_dict[i+1][reaction.id] = span_coeff\n",
      "    \n",
      "    minspan_dict = dict(minspan_dict)\n",
      "    print \"%d minspans\" % len(minspan_dict)\n",
      "    \n",
      "    # normalize to glc uptake = 1\n",
      "    for n, span in minspan_dict.iteritems():\n",
      "        norm = span[normalize_by]\n",
      "        if norm is nan:\n",
      "            continue\n",
      "        for k, v in span.iteritems():\n",
      "            span[k] = v / norm\n",
      "            \n",
      "    if fix_names is not None:\n",
      "        for num, sp in minspan_dict.iteritems():\n",
      "            minspan_dict[num] = dict([(fix_name(k), v) for (k, v) in sp.iteritems()])\n",
      "    \n",
      "    return minspan_dict"
     ],
     "language": "python",
     "metadata": {},
     "outputs": [],
     "prompt_number": 1131
    },
    {
     "cell_type": "code",
     "collapsed": false,
     "input": [
      "def fix_name(name):\n",
      "    name = re.sub(r'_(D|L)\\(e\\)$', r'-\\1(e)', name)\n",
      "    name = re.sub(r'^(D|L)_', r'\\1-', name)\n",
      "    return name"
     ],
     "language": "python",
     "metadata": {},
     "outputs": [],
     "prompt_number": 1132
    },
    {
     "cell_type": "markdown",
     "metadata": {},
     "source": [
      "#### anaerobic"
     ]
    },
    {
     "cell_type": "code",
     "collapsed": false,
     "input": [
      "minspan_an_dict = generate_minspans_for_knockouts(model_minspan.copy(), knockouts = ['CYTBD'], verbose=False, fix_name=fix_name)"
     ],
     "language": "python",
     "metadata": {},
     "outputs": [
      {
       "output_type": "stream",
       "stream": "stdout",
       "text": [
        "22 minspans\n"
       ]
      }
     ],
     "prompt_number": 1133
    },
    {
     "cell_type": "markdown",
     "metadata": {},
     "source": [
      "#### succinate design"
     ]
    },
    {
     "cell_type": "code",
     "collapsed": false,
     "input": [
      "minspan_succ_design_dict = generate_minspans_for_knockouts(model_minspan.copy(), knockouts = ['CYTBD', 'GLUDy', 'THD2', 'ALCD2x', 'PFL', 'LDH_D'], verbose=False, fix_name=fix_name)"
     ],
     "language": "python",
     "metadata": {},
     "outputs": [
      {
       "output_type": "stream",
       "stream": "stdout",
       "text": [
        "17 minspans\n"
       ]
      }
     ],
     "prompt_number": 1134
    },
    {
     "cell_type": "markdown",
     "metadata": {},
     "source": [
      "## Generate minspans for minspan-tool"
     ]
    },
    {
     "cell_type": "code",
     "collapsed": false,
     "input": [
      "with open('/Users/zaking/sharedrepos/visbio-maps/simpheny-svg/core-e-coli-v3-reaction-names.csv', 'r') as f:\n",
      "    df_flux_fix = pandas.read_csv(f, header=0)\n",
      "def flux_fix(flux):\n",
      "    new = {}\n",
      "    for row in df_flux_fix.itertuples(index=False):\n",
      "        if row[0].strip() in flux and row[1] is not nan:\n",
      "            flux[unicode(row[1].strip())] = flux[row[0].strip()]\n",
      "        elif row[2] is not nan and row[2].strip() in flux:\n",
      "            flux[unicode(row[0].strip())] = flux[row[2].strip()]\n",
      "            if row[1] is not nan:\n",
      "                flux[unicode(row[1].strip())] = flux[row[2].strip()]\n",
      "    return flux"
     ],
     "language": "python",
     "metadata": {},
     "outputs": [],
     "prompt_number": 1126
    },
    {
     "cell_type": "code",
     "collapsed": false,
     "input": [
      "def get_minspans_per_reaction(reactions, minspan_dict):\n",
      "    \"\"\"Return a dictionary with keys for each reaction and values of any minspan that \n",
      "    utilizes the reaction.\"\"\"\n",
      "    def min_f_r(reaction, d):\n",
      "        return [num for num, span in d.iteritems() if abs(span[reaction]) > 0]\n",
      "    return dict([(reaction, min_f_r(reaction, minspan_dict)) for reaction in reactions])"
     ],
     "language": "python",
     "metadata": {},
     "outputs": [],
     "prompt_number": 1089
    },
    {
     "cell_type": "code",
     "collapsed": false,
     "input": [
      "#test minspan_for_reaction\n",
      "assert get_minspans_per_reaction(['GAPD', 'PGA'], {0: {'GAPD': 2.1, 'PGA': 0}, 1: {'PGA': -3.3, 'GAPD': 2.3}}) == \\\n",
      "                        {'GAPD': [0, 1], 'PGA': [1]}"
     ],
     "language": "python",
     "metadata": {},
     "outputs": [],
     "prompt_number": 1090
    },
    {
     "cell_type": "code",
     "collapsed": false,
     "input": [
      "def minspan_flux_for_reaction(reaction, reactions, minspans_per_reaction, maxed_flux, no_flux):\n",
      "    flux = {}\n",
      "    for r in reactions:\n",
      "        spans = list(set(minspans_per_reaction[r]) & set(minspans_per_reaction[reaction]))\n",
      "        if len(spans) == 1:\n",
      "            flux[r] = int(spans[0])\n",
      "        elif len(spans) > 1:\n",
      "            flux[r] = maxed_flux\n",
      "        else:\n",
      "            flux[r] = no_flux\n",
      "    return flux_fix(flux)"
     ],
     "language": "python",
     "metadata": {},
     "outputs": [],
     "prompt_number": 1091
    },
    {
     "cell_type": "code",
     "collapsed": false,
     "input": [
      "print minspan_flux_for_reaction('GAPD', ['GAPD', 'PGA'], {'GAPD': [0,1,2], 'PGA': [1]}, 100, -1)"
     ],
     "language": "python",
     "metadata": {},
     "outputs": [
      {
       "output_type": "stream",
       "stream": "stdout",
       "text": [
        "{'GAPD': 100, 'PGA': 1}\n"
       ]
      }
     ],
     "prompt_number": 1092
    },
    {
     "cell_type": "code",
     "collapsed": false,
     "input": [
      "# find individual fluxes for each reaction and each of its minspans\n",
      "def flux_by_minspan_for_reaction(reaction, reactions, minspans_per_reaction, no_flux):\n",
      "    out = {}\n",
      "    for num in minspans_per_reaction[reaction]:\n",
      "        flux = {}\n",
      "        for r in reactions:\n",
      "            if num in minspans_per_reaction[r]:\n",
      "                flux[r] = int(num)\n",
      "            else:\n",
      "                flux[r] = no_flux\n",
      "        out[int(num)] = flux_fix(flux)\n",
      "    return out"
     ],
     "language": "python",
     "metadata": {},
     "outputs": [],
     "prompt_number": 1093
    },
    {
     "cell_type": "code",
     "collapsed": false,
     "input": [
      "print flux_by_minspan_for_reaction('GAPD', ['GAPD', 'PGA'], {'GAPD': [0,1,2], 'PGA': [1]}, -1)"
     ],
     "language": "python",
     "metadata": {},
     "outputs": [
      {
       "output_type": "stream",
       "stream": "stdout",
       "text": [
        "{0: {'GAPD': 0, 'PGA': -1}, 1: {'GAPD': 1, 'PGA': 1}, 2: {'GAPD': 2, 'PGA': -1}}\n"
       ]
      }
     ],
     "prompt_number": 1094
    },
    {
     "cell_type": "code",
     "collapsed": false,
     "input": [
      "def fluxes_for_minspan_tool(minspan_dict, knockouts=[]):\n",
      "    \n",
      "    # get reactions and labels\n",
      "    reactions = list(set(reduce(add, [[str(r) for r in span.iterkeys()] for span in minspan_dict.itervalues()])))\n",
      "    labels = [int(x) for x in minspan_dict.keys()]\n",
      "\n",
      "    # remove knockouts\n",
      "    #print len(minspan_dict)\n",
      "    minspan_dict = dict([(k, v) for k, v in minspan_dict.iteritems() if not any([r in v for r in knockouts])])\n",
      "    #print len(minspan_dict)\n",
      "    \n",
      "    minspans_per_reaction = get_minspans_per_reaction(reactions, minspan_dict)\n",
      "    # find grouped fluxes for each reaction\n",
      "    maxed_flux = 1000; no_flux = 999; no_minspan = 0\n",
      "    new_labels = [no_flux, maxed_flux, no_minspan]\n",
      "    new_labels.extend(labels)\n",
      "    flux_per_reaction = dict([(reaction, minspan_flux_for_reaction(reaction, reactions, minspans_per_reaction, maxed_flux, no_flux)) \n",
      "                              for reaction in reactions])\n",
      "    flux_per_reaction = flux_fix(flux_per_reaction)\n",
      "\n",
      "    flux_per_reaction_per_minspan = dict([(reaction, flux_by_minspan_for_reaction(reaction, reactions, minspans_per_reaction, no_flux)) \n",
      "                                          for reaction in reactions])\n",
      "    flux_per_reaction_per_minspan = flux_fix(flux_per_reaction_per_minspan)\n",
      "    return {'combined': flux_per_reaction, \n",
      "            'individual': flux_per_reaction_per_minspan,\n",
      "            'labels': new_labels}"
     ],
     "language": "python",
     "metadata": {},
     "outputs": [],
     "prompt_number": 1095
    },
    {
     "cell_type": "code",
     "collapsed": false,
     "input": [
      "def dump_file_for_knockouts(knockouts, minspan_dict, base, directory):\n",
      "    ko_str = \"_\"+\"-\".join(knockouts) if len(knockouts) > 0 else \"\"\n",
      "    filename = join(directory, \"%s%s.json\" % (base, ko_str))\n",
      "    with open(filename, 'w') as f:\n",
      "        json.dump(fluxes_for_minspan_tool(minspan_dict.copy()), f, ensure_ascii=True)\n",
      "    print 'saved %s' % filename"
     ],
     "language": "python",
     "metadata": {},
     "outputs": [],
     "prompt_number": 1096
    },
    {
     "cell_type": "code",
     "collapsed": false,
     "input": [
      "directory = \"/Users/zaking/www/minspan-tool-working/\""
     ],
     "language": "python",
     "metadata": {},
     "outputs": [],
     "prompt_number": 1127
    },
    {
     "cell_type": "code",
     "collapsed": false,
     "input": [
      "dump_file_for_knockouts([], minspan_an_dict, 'minspan_data_anaerobic', directory)\n",
      "dump_file_for_knockouts(['GLUDy'], minspan_an_dict, 'minspan_data_anaerobic', directory)\n",
      "dump_file_for_knockouts(['GLUDy', 'ALCD2x'], minspan_an_dict, 'minspan_data_anaerobic', directory)"
     ],
     "language": "python",
     "metadata": {},
     "outputs": [
      {
       "output_type": "stream",
       "stream": "stdout",
       "text": [
        "saved /Users/zaking/www/minspan-tool-working/minspan_data_anaerobic.json\n",
        "saved /Users/zaking/www/minspan-tool-working/minspan_data_anaerobic_GLUDy.json"
       ]
      },
      {
       "output_type": "stream",
       "stream": "stdout",
       "text": [
        "\n",
        "saved /Users/zaking/www/minspan-tool-working/minspan_data_anaerobic_GLUDy-ALCD2x.json"
       ]
      },
      {
       "output_type": "stream",
       "stream": "stdout",
       "text": [
        "\n"
       ]
      }
     ],
     "prompt_number": 1135
    },
    {
     "cell_type": "code",
     "collapsed": false,
     "input": [
      "dump_file_for_knockouts([], minspan_succ_design_dict, 'minspan_data_succ_design', directory)"
     ],
     "language": "python",
     "metadata": {},
     "outputs": [
      {
       "output_type": "stream",
       "stream": "stdout",
       "text": [
        "saved /Users/zaking/www/minspan-tool-working/minspan_data_succ_design.json\n"
       ]
      }
     ],
     "prompt_number": 1136
    },
    {
     "cell_type": "markdown",
     "metadata": {},
     "source": [
      "## Minspans removed by each knockout"
     ]
    },
    {
     "cell_type": "code",
     "collapsed": false,
     "input": [
      "model.optimize()\n",
      "model.solution.f"
     ],
     "language": "python",
     "metadata": {},
     "outputs": [
      {
       "metadata": {},
       "output_type": "pyout",
       "prompt_number": 948,
       "text": [
        "0.8739215069684303"
       ]
      }
     ],
     "prompt_number": 948
    },
    {
     "cell_type": "code",
     "collapsed": false,
     "input": [
      "#knockouts = [['GLUDy'], ['ALCD2x'], ['LDH_D'], ['PFL'], ['THD2']]\n",
      "knockouts = [['GLUDy'], ['GLUDy', 'THD2'], ['GLUDy', 'THD2', 'ALCD2x'], ['GLUDy', 'THD2', 'ALCD2x', 'PFL'], ['GLUDy', 'THD2', 'ALCD2x', 'PFL', 'LDH_D'] ]\n",
      "model_ko = knockout_reactions(model.copy(), knockouts[0])\n",
      "model_ko.optimize()\n",
      "model_ko.solution.f"
     ],
     "language": "python",
     "metadata": {},
     "outputs": [
      {
       "metadata": {},
       "output_type": "pyout",
       "prompt_number": 950,
       "text": [
        "0.8513885233462084"
       ]
      }
     ],
     "prompt_number": 950
    },
    {
     "cell_type": "code",
     "collapsed": false,
     "input": [
      "fermentation_exchanges = ['EX_pyr(e)', 'EX_etoh(e)', 'EX_for(e)', 'EX_ac(e)', 'EX_acald(e)', 'EX_lac-D(e)', 'EX_succ(e)']"
     ],
     "language": "python",
     "metadata": {},
     "outputs": [],
     "prompt_number": 951
    },
    {
     "cell_type": "code",
     "collapsed": false,
     "input": [
      "minspans_by_knockout = defaultdict(dict)\n",
      "for kos in [[]]+knockouts:\n",
      "    name = \", \".join(kos)\n",
      "    for exchange in fermentation_exchanges:\n",
      "        minspans = [m for m in minspan_for_reaction(exchange, minspan_dict) if not any([abs(minspan_dict[m][r]) > 0 for r in kos])]\n",
      "        minspans_by_knockout[name][exchange] = len(minspans)\n",
      "minspans_by_knockout = DataFrame(minspans_by_knockout, columns=[''] + [\", \".join(x) for x in knockouts]).rename(columns={\"\": \"wt\"}).sort(columns=\", \".join(knockouts[0]))"
     ],
     "language": "python",
     "metadata": {},
     "outputs": [],
     "prompt_number": 975
    },
    {
     "cell_type": "code",
     "collapsed": false,
     "input": [
      "minspans_by_knockout.T"
     ],
     "language": "python",
     "metadata": {},
     "outputs": [
      {
       "html": [
        "<div style=\"max-height:1000px;max-width:1500px;overflow:auto;\">\n",
        "<table border=\"1\" class=\"dataframe\">\n",
        "  <thead>\n",
        "    <tr style=\"text-align: right;\">\n",
        "      <th></th>\n",
        "      <th>EX_ac(e)</th>\n",
        "      <th>EX_pyr(e)</th>\n",
        "      <th>EX_acald(e)</th>\n",
        "      <th>EX_succ(e)</th>\n",
        "      <th>EX_etoh(e)</th>\n",
        "      <th>EX_for(e)</th>\n",
        "      <th>EX_lac-D(e)</th>\n",
        "    </tr>\n",
        "  </thead>\n",
        "  <tbody>\n",
        "    <tr>\n",
        "      <th>wt</th>\n",
        "      <td> 1</td>\n",
        "      <td> 1</td>\n",
        "      <td> 2</td>\n",
        "      <td> 3</td>\n",
        "      <td> 8</td>\n",
        "      <td> 8</td>\n",
        "      <td> 11</td>\n",
        "    </tr>\n",
        "    <tr>\n",
        "      <th>GLUDy</th>\n",
        "      <td> 1</td>\n",
        "      <td> 1</td>\n",
        "      <td> 2</td>\n",
        "      <td> 3</td>\n",
        "      <td> 7</td>\n",
        "      <td> 7</td>\n",
        "      <td> 10</td>\n",
        "    </tr>\n",
        "    <tr>\n",
        "      <th>GLUDy, THD2</th>\n",
        "      <td> 1</td>\n",
        "      <td> 1</td>\n",
        "      <td> 2</td>\n",
        "      <td> 3</td>\n",
        "      <td> 6</td>\n",
        "      <td> 6</td>\n",
        "      <td>  9</td>\n",
        "    </tr>\n",
        "    <tr>\n",
        "      <th>GLUDy, THD2, ALCD2x</th>\n",
        "      <td> 0</td>\n",
        "      <td> 0</td>\n",
        "      <td> 2</td>\n",
        "      <td> 1</td>\n",
        "      <td> 0</td>\n",
        "      <td> 1</td>\n",
        "      <td>  9</td>\n",
        "    </tr>\n",
        "    <tr>\n",
        "      <th>GLUDy, THD2, ALCD2x, PFL</th>\n",
        "      <td> 0</td>\n",
        "      <td> 0</td>\n",
        "      <td> 1</td>\n",
        "      <td> 1</td>\n",
        "      <td> 0</td>\n",
        "      <td> 0</td>\n",
        "      <td>  9</td>\n",
        "    </tr>\n",
        "    <tr>\n",
        "      <th>GLUDy, THD2, ALCD2x, PFL, LDH_D</th>\n",
        "      <td> 0</td>\n",
        "      <td> 0</td>\n",
        "      <td> 1</td>\n",
        "      <td> 1</td>\n",
        "      <td> 0</td>\n",
        "      <td> 0</td>\n",
        "      <td>  0</td>\n",
        "    </tr>\n",
        "  </tbody>\n",
        "</table>\n",
        "</div>"
       ],
       "metadata": {},
       "output_type": "pyout",
       "prompt_number": 976,
       "text": [
        "                                 EX_ac(e)  EX_pyr(e)  EX_acald(e)  EX_succ(e)  \\\n",
        "wt                                      1          1            2           3   \n",
        "GLUDy                                   1          1            2           3   \n",
        "GLUDy, THD2                             1          1            2           3   \n",
        "GLUDy, THD2, ALCD2x                     0          0            2           1   \n",
        "GLUDy, THD2, ALCD2x, PFL                0          0            1           1   \n",
        "GLUDy, THD2, ALCD2x, PFL, LDH_D         0          0            1           1   \n",
        "\n",
        "                                 EX_etoh(e)  EX_for(e)  EX_lac-D(e)  \n",
        "wt                                        8          8           11  \n",
        "GLUDy                                     7          7           10  \n",
        "GLUDy, THD2                               6          6            9  \n",
        "GLUDy, THD2, ALCD2x                       0          1            9  \n",
        "GLUDy, THD2, ALCD2x, PFL                  0          0            9  \n",
        "GLUDy, THD2, ALCD2x, PFL, LDH_D           0          0            0  "
       ]
      }
     ],
     "prompt_number": 976
    },
    {
     "cell_type": "markdown",
     "metadata": {},
     "source": [
      "## order of fermentation products"
     ]
    },
    {
     "cell_type": "code",
     "collapsed": false,
     "input": [
      "def ferment_and_return(knockouts=[]):\n",
      "    mt = model.copy()\n",
      "    mt.reactions.get_by_id('EX_o2(e)').lower_bound = 0\n",
      "    mt = knockout_reactions(mt, knockouts)\n",
      "    mt.optimize()\n",
      "#    print '----------'\n",
      "#    print \" \".join(knockouts)\n",
      "    try:\n",
      "        f = mt.solution.f\n",
      "        out = dict([(k, v) for k, v in mt.solution.x_dict.iteritems() if 'EX' in k and v > 0 and k not in ['EX_h2o(e)', 'EX_h(e)', 'EX_nh4(e)', 'EX_pi(e)']])\n",
      "#        print \"\u03bc = %.2g\" % f\n",
      "#        print \"\\n\".join([\"%s\\t%.2f\" % (k,v) for (k,v) in out.iteritems()])\n",
      "        return out, f\n",
      "    except AttributeError:\n",
      "#        print '\u03bc = 0'\n",
      "        return None, 0"
     ],
     "language": "python",
     "metadata": {},
     "outputs": [],
     "prompt_number": 979
    },
    {
     "cell_type": "code",
     "collapsed": false,
     "input": [
      "class Node(object):\n",
      "    def __init__(self, data=None, gr=None):\n",
      "        self.data = data\n",
      "        self.gr = gr\n",
      "        self.children = {}"
     ],
     "language": "python",
     "metadata": {},
     "outputs": [],
     "prompt_number": 980
    },
    {
     "cell_type": "code",
     "collapsed": false,
     "input": [
      "def ferment_tree(knockouts=[], stop_at=3, count=0, min_growth=0.01):\n",
      "    data, f = ferment_and_return(knockouts=knockouts)\n",
      "    #print knockouts, data, f, count\n",
      "    tree = Node(data=data, gr=f)\n",
      "    count = count + 1\n",
      "    if f <= min_growth:\n",
      "        return None\n",
      "    elif count > stop_at:\n",
      "        return tree\n",
      "    for k, v in data.iteritems():\n",
      "        tree.children[k] = ferment_tree(knockouts=knockouts+[k], count=count)\n",
      "    return tree"
     ],
     "language": "python",
     "metadata": {},
     "outputs": [],
     "prompt_number": 986
    },
    {
     "cell_type": "code",
     "collapsed": false,
     "input": [
      "name_dict = {'EX_for(e)': 'formate', 'EX_etoh(e)': 'ethanol', 'EX_pyr(e)': 'pyruvate', 'EX_ac(e)': 'acetate', 'EX_succ(e)': 'succinate', 'EX_lac-D(e)': 'D-lactate', 'EX_co2(e)': 'co2'}"
     ],
     "language": "python",
     "metadata": {},
     "outputs": [],
     "prompt_number": 987
    },
    {
     "cell_type": "code",
     "collapsed": false,
     "input": [
      "def fix_name(n):\n",
      "    try:\n",
      "        return name_dict[n]\n",
      "    except KeyError:\n",
      "        return n"
     ],
     "language": "python",
     "metadata": {},
     "outputs": [],
     "prompt_number": 988
    },
    {
     "cell_type": "code",
     "collapsed": false,
     "input": [
      "def printTree(tree, depth = 0, name_dict={}):\n",
      "    #print tree.gr\n",
      "    if tree is None:\n",
      "        #print \"\\t\" * depth, \"xx\"\n",
      "        return\n",
      "    if tree.data is not None and tree.gr is not None:\n",
      "        data = sorted(tree.data.items(), key=lambda x: x[1], reverse=True)\n",
      "        data = [(fix_name(x), y) for (x,y) in data]\n",
      "        print \"\\t\"*depth+\"| ( \"+\", \".join([\"%s:%.3g\"%i for i in data])+\"; \u03bc: %.2g\"%tree.gr+\" ) \"\n",
      "    else:\n",
      "        pass\n",
      "        #print \"\\t\" * depth, \"xx\"\n",
      "    if type(tree.children) is dict and tree.data is not None:\n",
      "        these = sorted(tree.children.items(), key=lambda x: tree.data[x[0]], reverse=True)\n",
      "        for key, val in these:\n",
      "            print \"\\t\" * (depth) + \"\\---\", key\n",
      "            printTree(val, depth+1)"
     ],
     "language": "python",
     "metadata": {},
     "outputs": [],
     "prompt_number": 989
    },
    {
     "cell_type": "code",
     "collapsed": false,
     "input": [
      "tree = ferment_tree(stop_at=5)\n",
      "print 'wildtype'\n",
      "printTree(tree)"
     ],
     "language": "python",
     "metadata": {},
     "outputs": [
      {
       "output_type": "stream",
       "stream": "stdout",
       "text": [
        "wildtype\n",
        "| ( formate:17.8, acetate:8.5, ethanol:8.28; \u03bc: 0.21 ) \n",
        "\\--- EX_for(e)\n",
        "\t| ( ethanol:16.6, co2:16.5, succinate:0.678; \u03bc: 0.18 ) \n",
        "\t\\--- EX_etoh(e)\n",
        "\t\t| ( D-lactate:17.5, succinate:0.5; \u03bc: 0.13 ) \n",
        "\t\t\\--- EX_lac-D(e)\n",
        "\t\t\t| ( succinate:9.88, pyruvate:9.81; \u03bc: 0.02 ) \n",
        "\t\t\\--- EX_succ(e)\n",
        "\t\\--- EX_co2(e)\n",
        "\t\t| ( D-lactate:17.4, succinate:0.501, ethanol:0.0967; \u03bc: 0.13 ) \n",
        "\t\t\\--- EX_lac-D(e)\n",
        "\t\t\t| ( succinate:9.3, ethanol:4.68, acetate:4.34, pyruvate:0.272; \u03bc: 0.093 ) \n",
        "\t\t\\--- EX_succ(e)\n",
        "\t\t\\--- EX_etoh(e)\n",
        "\t\\--- EX_succ(e)\n",
        "\\--- EX_ac(e)\n",
        "\t| ( ethanol:16.6, co2:14.8, formate:3.96; \u03bc: 0.19 ) \n",
        "\t\\--- EX_etoh(e)\n",
        "\t\t| ( D-lactate:17.9, formate:0.662; \u03bc: 0.14 ) \n",
        "\t\t\\--- EX_lac-D(e)\n",
        "\t\t\t| ( formate:19.1, EX_acald(e):18.7, succinate:6.31e-29; \u03bc: 0.082 ) \n",
        "\t\t\\--- EX_for(e)\n",
        "\t\t\t| ( D-lactate:17.5, succinate:0.5; \u03bc: 0.13 ) \n",
        "\t\\--- EX_co2(e)\n",
        "\t\t| ( formate:9.75, ethanol:9.08, pyruvate:8.73; \u03bc: 0.14 ) \n",
        "\t\t\\--- EX_for(e)\n",
        "\t\t\t| ( D-lactate:17.4, succinate:0.501, ethanol:0.0967; \u03bc: 0.13 ) \n",
        "\t\t\\--- EX_etoh(e)\n",
        "\t\t\\--- EX_pyr(e)\n",
        "\t\t\t| ( D-lactate:17.5, formate:1.02, ethanol:0.348; \u03bc: 0.14 ) \n",
        "\t\\--- EX_for(e)\n",
        "\t\t| ( ethanol:16.6, co2:16.5, succinate:0.678; \u03bc: 0.18 ) \n",
        "\t\t\\--- EX_etoh(e)\n",
        "\t\t\t| ( D-lactate:17.5, succinate:0.5; \u03bc: 0.13 ) \n",
        "\t\t\\--- EX_co2(e)\n",
        "\t\t\t| ( D-lactate:17.4, succinate:0.501, ethanol:0.0967; \u03bc: 0.13 ) \n",
        "\t\t\\--- EX_succ(e)\n",
        "\\--- EX_etoh(e)\n",
        "\t| ( D-lactate:17.8, formate:0.812, acetate:0.146; \u03bc: 0.14 ) \n",
        "\t\\--- EX_lac-D(e)\n",
        "\t\t| ( formate:9.75, acetate:9.22, succinate:9.1; \u03bc: 0.11 ) \n",
        "\t\t\\--- EX_for(e)\n",
        "\t\t\t| ( succinate:9.88, pyruvate:9.81; \u03bc: 0.02 ) \n",
        "\t\t\\--- EX_ac(e)\n",
        "\t\t\t| ( formate:19.1, EX_acald(e):18.7, succinate:6.31e-29; \u03bc: 0.082 ) \n",
        "\t\t\\--- EX_succ(e)\n",
        "\t\t\t| ( formate:19.1, EX_acald(e):18.7, acetate:0.0874; \u03bc: 0.082 ) \n",
        "\t\\--- EX_for(e)\n",
        "\t\t| ( D-lactate:17.5, succinate:0.5; \u03bc: 0.13 ) \n",
        "\t\t\\--- EX_lac-D(e)\n",
        "\t\t\t| ( succinate:9.88, pyruvate:9.81; \u03bc: 0.02 ) \n",
        "\t\t\\--- EX_succ(e)\n",
        "\t\\--- EX_ac(e)\n",
        "\t\t| ( D-lactate:17.9, formate:0.662; \u03bc: 0.14 ) \n",
        "\t\t\\--- EX_lac-D(e)\n",
        "\t\t\t| ( formate:19.1, EX_acald(e):18.7, succinate:6.31e-29; \u03bc: 0.082 ) \n",
        "\t\t\\--- EX_for(e)\n",
        "\t\t\t| ( D-lactate:17.5, succinate:0.5; \u03bc: 0.13 ) \n"
       ]
      }
     ],
     "prompt_number": 990
    },
    {
     "cell_type": "markdown",
     "metadata": {},
     "source": [
      "## FVA by fermentation product"
     ]
    },
    {
     "cell_type": "code",
     "collapsed": false,
     "input": [
      "def single_fva(model, reaction):\n",
      "    r_obj = model.reactions.get_by_id(reaction)\n",
      "    model.optimize(new_objective=r_obj, objective_sense='maximize')\n",
      "    maximum = model.solution.f\n",
      "    model.optimize(new_objective=r_obj, objective_sense='minimize')\n",
      "    minimum = model.solution.f\n",
      "    return minimum, maximum"
     ],
     "language": "python",
     "metadata": {},
     "outputs": [],
     "prompt_number": 991
    },
    {
     "cell_type": "code",
     "collapsed": false,
     "input": [
      "fermentation_exchanges = ['EX_pyr(e)', 'EX_etoh(e)', 'EX_for(e)', 'EX_ac(e)', 'EX_acald(e)', 'EX_lac-D(e)', 'EX_succ(e)']\n",
      "knockouts = [['GLUDy'], ['GLUDy', 'THD2'], ['GLUDy', 'THD2', 'ALCD2x'], ['GLUDy', 'THD2', 'ALCD2x', 'PFL'], ['GLUDy', 'THD2', 'ALCD2x', 'PFL', 'LDH_D'] ]"
     ],
     "language": "python",
     "metadata": {},
     "outputs": [],
     "prompt_number": 992
    },
    {
     "cell_type": "code",
     "collapsed": false,
     "input": [
      "fva_by_knockout = {}\n",
      "for reactions in [[]]+knockouts:\n",
      "    name = \", \".join(reactions)\n",
      "    this_model = knockout_reactions(model.copy(), reactions)\n",
      "    this_model.reactions.get_by_id('EX_o2(e)').lower_bound = 0\n",
      "    this_model.reactions.get_by_id('Biomass_Ecoli_core_N(w/GAM)-Nmet2').lower_bound = 0.01\n",
      "    this_model.optimize()\n",
      "    #print reactions\n",
      "    #print \"\u03bc = %.3g\" % this_model.solution.f\n",
      "    #print \", \".join([\"%s: %.4g\"%(k, v) for k, v in this_model.solution.x_dict.iteritems() if 'EX' in k and v > 0 and k not in ['EX_h2o(e)', 'EX_h(e)', 'EX_nh4(e)', 'EX_pi(e)']])\n",
      "    for exchange in fermentation_exchanges:\n",
      "        fva = single_fva(this_model, exchange)\n",
      "        try:\n",
      "            assert type(fva_by_knockout[name]) is dict\n",
      "        except:\n",
      "            fva_by_knockout[name] = {}\n",
      "        fva_by_knockout[name][exchange] = \" / \".join([\"0\" if v is None else \"%.3g\"%v for v in fva])\n",
      "fva_by_knockout = DataFrame(fva_by_knockout, columns=[''] + [\", \".join(x) for x in knockouts]).rename(columns={\"\": \"wt\"})"
     ],
     "language": "python",
     "metadata": {},
     "outputs": [],
     "prompt_number": 1000
    },
    {
     "cell_type": "code",
     "collapsed": false,
     "input": [
      "fva_by_knockout.T[\"EX_ac(e)\tEX_pyr(e)\tEX_acald(e)\tEX_succ(e)\tEX_etoh(e)\tEX_for(e)\tEX_lac-D(e)\".split()]"
     ],
     "language": "python",
     "metadata": {},
     "outputs": [
      {
       "html": [
        "<div style=\"max-height:1000px;max-width:1500px;overflow:auto;\">\n",
        "<table border=\"1\" class=\"dataframe\">\n",
        "  <thead>\n",
        "    <tr style=\"text-align: right;\">\n",
        "      <th></th>\n",
        "      <th>EX_ac(e)</th>\n",
        "      <th>EX_pyr(e)</th>\n",
        "      <th>EX_acald(e)</th>\n",
        "      <th>EX_succ(e)</th>\n",
        "      <th>EX_etoh(e)</th>\n",
        "      <th>EX_for(e)</th>\n",
        "      <th>EX_lac-D(e)</th>\n",
        "    </tr>\n",
        "  </thead>\n",
        "  <tbody>\n",
        "    <tr>\n",
        "      <th>wt</th>\n",
        "      <td> 0 / 9.93</td>\n",
        "      <td> 0 / 9.93</td>\n",
        "      <td> 0 / 19.8</td>\n",
        "      <td>      0 / 13.5</td>\n",
        "      <td> 0 / 19.8</td>\n",
        "      <td> 0 / 19.9</td>\n",
        "      <td> 0 / 19.8</td>\n",
        "    </tr>\n",
        "    <tr>\n",
        "      <th>GLUDy</th>\n",
        "      <td> 0 / 9.93</td>\n",
        "      <td> 0 / 9.93</td>\n",
        "      <td> 0 / 19.8</td>\n",
        "      <td>      0 / 13.5</td>\n",
        "      <td> 0 / 19.8</td>\n",
        "      <td> 0 / 19.9</td>\n",
        "      <td> 0 / 19.8</td>\n",
        "    </tr>\n",
        "    <tr>\n",
        "      <th>GLUDy, THD2</th>\n",
        "      <td> 0 / 9.93</td>\n",
        "      <td> 0 / 9.93</td>\n",
        "      <td> 0 / 19.8</td>\n",
        "      <td>      0 / 13.5</td>\n",
        "      <td> 0 / 19.8</td>\n",
        "      <td> 0 / 19.9</td>\n",
        "      <td> 0 / 19.8</td>\n",
        "    </tr>\n",
        "    <tr>\n",
        "      <th>GLUDy, THD2, ALCD2x</th>\n",
        "      <td> 0 / 9.93</td>\n",
        "      <td> 0 / 9.93</td>\n",
        "      <td> 0 / 19.8</td>\n",
        "      <td>      0 / 13.5</td>\n",
        "      <td>    0 / 0</td>\n",
        "      <td> 0 / 19.9</td>\n",
        "      <td> 0 / 19.8</td>\n",
        "    </tr>\n",
        "    <tr>\n",
        "      <th>GLUDy, THD2, ALCD2x, PFL</th>\n",
        "      <td>  0 / 6.6</td>\n",
        "      <td> 0 / 9.91</td>\n",
        "      <td> 0 / 9.91</td>\n",
        "      <td> 0.0377 / 13.5</td>\n",
        "      <td>    0 / 0</td>\n",
        "      <td>    0 / 0</td>\n",
        "      <td> 0 / 19.8</td>\n",
        "    </tr>\n",
        "    <tr>\n",
        "      <th>GLUDy, THD2, ALCD2x, PFL, LDH_D</th>\n",
        "      <td>  0 / 6.6</td>\n",
        "      <td> 0 / 9.91</td>\n",
        "      <td> 0 / 9.91</td>\n",
        "      <td>   9.37 / 13.5</td>\n",
        "      <td>    0 / 0</td>\n",
        "      <td>    0 / 0</td>\n",
        "      <td>    0 / 0</td>\n",
        "    </tr>\n",
        "  </tbody>\n",
        "</table>\n",
        "</div>"
       ],
       "metadata": {},
       "output_type": "pyout",
       "prompt_number": 1002,
       "text": [
        "                                 EX_ac(e) EX_pyr(e) EX_acald(e)     EX_succ(e) EX_etoh(e) EX_for(e) EX_lac-D(e)\n",
        "wt                               0 / 9.93  0 / 9.93    0 / 19.8       0 / 13.5   0 / 19.8  0 / 19.9    0 / 19.8\n",
        "GLUDy                            0 / 9.93  0 / 9.93    0 / 19.8       0 / 13.5   0 / 19.8  0 / 19.9    0 / 19.8\n",
        "GLUDy, THD2                      0 / 9.93  0 / 9.93    0 / 19.8       0 / 13.5   0 / 19.8  0 / 19.9    0 / 19.8\n",
        "GLUDy, THD2, ALCD2x              0 / 9.93  0 / 9.93    0 / 19.8       0 / 13.5      0 / 0  0 / 19.9    0 / 19.8\n",
        "GLUDy, THD2, ALCD2x, PFL          0 / 6.6  0 / 9.91    0 / 9.91  0.0377 / 13.5      0 / 0     0 / 0    0 / 19.8\n",
        "GLUDy, THD2, ALCD2x, PFL, LDH_D   0 / 6.6  0 / 9.91    0 / 9.91    9.37 / 13.5      0 / 0     0 / 0       0 / 0"
       ]
      }
     ],
     "prompt_number": 1002
    },
    {
     "cell_type": "code",
     "collapsed": false,
     "input": [
      "mt = model.copy()\n",
      "mt.reactions.get_by_id('EX_o2(e)').lower_bound = 0\n",
      "mt = knockout_reactions(mt, ['EX_lac-D(e)', 'EX_etoh(e)', 'EX_for(e)'])\n",
      "mt.optimize()\n",
      "mt.solution.f\n",
      "print \", \".join([\"%s: %.4g\"%(k, v) for k, v in mt.solution.x_dict.iteritems() if 'EX' in k and v > 0 and k not in ['EX_h2o(e)', 'EX_h(e)', 'EX_nh4(e)', 'EX_pi(e)']])"
     ],
     "language": "python",
     "metadata": {},
     "outputs": [
      {
       "output_type": "stream",
       "stream": "stdout",
       "text": [
        "EX_pyr(e): 9.809, EX_succ(e): 9.885\n"
       ]
      }
     ],
     "prompt_number": 997
    },
    {
     "cell_type": "code",
     "collapsed": false,
     "input": [],
     "language": "python",
     "metadata": {},
     "outputs": []
    }
   ],
   "metadata": {}
  }
 ]
}